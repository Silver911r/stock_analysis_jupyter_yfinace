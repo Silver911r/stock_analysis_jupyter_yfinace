{
 "cells": [
  {
   "cell_type": "code",
   "execution_count": 16,
   "metadata": {},
   "outputs": [],
   "source": [
    "import yfinance as yf\n",
    "import pandas as pd\n",
    "import matplotlib.pyplot as plt\n",
    "import seaborn\n",
    "import numpy as np"
   ]
  },
  {
   "cell_type": "code",
   "execution_count": 4,
   "metadata": {},
   "outputs": [],
   "source": [
    "#select stocks to compaer\n",
    "stocks = [\"GME\",\"AMC\"]"
   ]
  },
  {
   "cell_type": "code",
   "execution_count": 5,
   "metadata": {},
   "outputs": [
    {
     "name": "stdout",
     "output_type": "stream",
     "text": [
      "[*********************100%***********************]  2 of 2 completed\n"
     ]
    }
   ],
   "source": [
    "#grab stock data from yahoo\n",
    "data = yf.download(stocks, start='2021-02-01',end='2022-02-01')"
   ]
  },
  {
   "cell_type": "code",
   "execution_count": 6,
   "metadata": {},
   "outputs": [
    {
     "data": {
      "text/html": [
       "<div>\n",
       "<style scoped>\n",
       "    .dataframe tbody tr th:only-of-type {\n",
       "        vertical-align: middle;\n",
       "    }\n",
       "\n",
       "    .dataframe tbody tr th {\n",
       "        vertical-align: top;\n",
       "    }\n",
       "\n",
       "    .dataframe thead tr th {\n",
       "        text-align: left;\n",
       "    }\n",
       "\n",
       "    .dataframe thead tr:last-of-type th {\n",
       "        text-align: right;\n",
       "    }\n",
       "</style>\n",
       "<table border=\"1\" class=\"dataframe\">\n",
       "  <thead>\n",
       "    <tr>\n",
       "      <th></th>\n",
       "      <th colspan=\"2\" halign=\"left\">Adj Close</th>\n",
       "      <th colspan=\"2\" halign=\"left\">Close</th>\n",
       "      <th colspan=\"2\" halign=\"left\">High</th>\n",
       "      <th colspan=\"2\" halign=\"left\">Low</th>\n",
       "      <th colspan=\"2\" halign=\"left\">Open</th>\n",
       "      <th colspan=\"2\" halign=\"left\">Volume</th>\n",
       "    </tr>\n",
       "    <tr>\n",
       "      <th></th>\n",
       "      <th>AMC</th>\n",
       "      <th>GME</th>\n",
       "      <th>AMC</th>\n",
       "      <th>GME</th>\n",
       "      <th>AMC</th>\n",
       "      <th>GME</th>\n",
       "      <th>AMC</th>\n",
       "      <th>GME</th>\n",
       "      <th>AMC</th>\n",
       "      <th>GME</th>\n",
       "      <th>AMC</th>\n",
       "      <th>GME</th>\n",
       "    </tr>\n",
       "    <tr>\n",
       "      <th>Date</th>\n",
       "      <th></th>\n",
       "      <th></th>\n",
       "      <th></th>\n",
       "      <th></th>\n",
       "      <th></th>\n",
       "      <th></th>\n",
       "      <th></th>\n",
       "      <th></th>\n",
       "      <th></th>\n",
       "      <th></th>\n",
       "      <th></th>\n",
       "      <th></th>\n",
       "    </tr>\n",
       "  </thead>\n",
       "  <tbody>\n",
       "    <tr>\n",
       "      <th>2021-02-01</th>\n",
       "      <td>13.30</td>\n",
       "      <td>225.000000</td>\n",
       "      <td>13.30</td>\n",
       "      <td>225.000000</td>\n",
       "      <td>17.25</td>\n",
       "      <td>322.000000</td>\n",
       "      <td>12.91</td>\n",
       "      <td>212.000000</td>\n",
       "      <td>17.00</td>\n",
       "      <td>316.559998</td>\n",
       "      <td>434608000</td>\n",
       "      <td>37382200</td>\n",
       "    </tr>\n",
       "    <tr>\n",
       "      <th>2021-02-02</th>\n",
       "      <td>7.82</td>\n",
       "      <td>90.000000</td>\n",
       "      <td>7.82</td>\n",
       "      <td>90.000000</td>\n",
       "      <td>10.10</td>\n",
       "      <td>158.000000</td>\n",
       "      <td>6.00</td>\n",
       "      <td>74.220001</td>\n",
       "      <td>9.48</td>\n",
       "      <td>140.759995</td>\n",
       "      <td>462775900</td>\n",
       "      <td>78183100</td>\n",
       "    </tr>\n",
       "    <tr>\n",
       "      <th>2021-02-03</th>\n",
       "      <td>8.97</td>\n",
       "      <td>92.410004</td>\n",
       "      <td>8.97</td>\n",
       "      <td>92.410004</td>\n",
       "      <td>9.77</td>\n",
       "      <td>113.400002</td>\n",
       "      <td>7.89</td>\n",
       "      <td>85.250000</td>\n",
       "      <td>8.85</td>\n",
       "      <td>112.010002</td>\n",
       "      <td>221405100</td>\n",
       "      <td>42698500</td>\n",
       "    </tr>\n",
       "    <tr>\n",
       "      <th>2021-02-04</th>\n",
       "      <td>7.09</td>\n",
       "      <td>53.500000</td>\n",
       "      <td>7.09</td>\n",
       "      <td>53.500000</td>\n",
       "      <td>8.74</td>\n",
       "      <td>91.500000</td>\n",
       "      <td>7.00</td>\n",
       "      <td>53.330002</td>\n",
       "      <td>8.70</td>\n",
       "      <td>91.190002</td>\n",
       "      <td>162985800</td>\n",
       "      <td>62427300</td>\n",
       "    </tr>\n",
       "    <tr>\n",
       "      <th>2021-02-05</th>\n",
       "      <td>6.83</td>\n",
       "      <td>63.770000</td>\n",
       "      <td>6.83</td>\n",
       "      <td>63.770000</td>\n",
       "      <td>8.27</td>\n",
       "      <td>95.000000</td>\n",
       "      <td>6.52</td>\n",
       "      <td>51.090000</td>\n",
       "      <td>7.17</td>\n",
       "      <td>54.040001</td>\n",
       "      <td>197097600</td>\n",
       "      <td>81345000</td>\n",
       "    </tr>\n",
       "  </tbody>\n",
       "</table>\n",
       "</div>"
      ],
      "text/plain": [
       "           Adj Close              Close               High                Low  \\\n",
       "                 AMC         GME    AMC         GME    AMC         GME    AMC   \n",
       "Date                                                                            \n",
       "2021-02-01     13.30  225.000000  13.30  225.000000  17.25  322.000000  12.91   \n",
       "2021-02-02      7.82   90.000000   7.82   90.000000  10.10  158.000000   6.00   \n",
       "2021-02-03      8.97   92.410004   8.97   92.410004   9.77  113.400002   7.89   \n",
       "2021-02-04      7.09   53.500000   7.09   53.500000   8.74   91.500000   7.00   \n",
       "2021-02-05      6.83   63.770000   6.83   63.770000   8.27   95.000000   6.52   \n",
       "\n",
       "                         Open                 Volume            \n",
       "                   GME    AMC         GME        AMC       GME  \n",
       "Date                                                            \n",
       "2021-02-01  212.000000  17.00  316.559998  434608000  37382200  \n",
       "2021-02-02   74.220001   9.48  140.759995  462775900  78183100  \n",
       "2021-02-03   85.250000   8.85  112.010002  221405100  42698500  \n",
       "2021-02-04   53.330002   8.70   91.190002  162985800  62427300  \n",
       "2021-02-05   51.090000   7.17   54.040001  197097600  81345000  "
      ]
     },
     "execution_count": 6,
     "metadata": {},
     "output_type": "execute_result"
    }
   ],
   "source": [
    "#preview the data\n",
    "data.head()"
   ]
  },
  {
   "cell_type": "code",
   "execution_count": 7,
   "metadata": {},
   "outputs": [],
   "source": [
    "#grab the closed column from the dataframe\n",
    "closedStocks = data.loc[:,\"Close\"].copy()"
   ]
  },
  {
   "cell_type": "code",
   "execution_count": 12,
   "metadata": {},
   "outputs": [
    {
     "data": {
      "image/png": "[encoded data removed]",
      "text/plain": [
       "<Figure size 576x396 with 1 Axes>"
      ]
     },
     "metadata": {},
     "output_type": "display_data"
    }
   ],
   "source": [
    "#chart without normilization\n",
    "closedStocks.plot()\n",
    "plt.style.use(\"seaborn\")\n",
    "plt.show()"
   ]
  },
  {
   "cell_type": "code",
   "execution_count": 13,
   "metadata": {},
   "outputs": [],
   "source": [
    "#normalize the data\n",
    "norm = closedStocks.div(closedStocks.iloc[0]).mul(100)"
   ]
  },
  {
   "cell_type": "code",
   "execution_count": 14,
   "metadata": {},
   "outputs": [
    {
     "data": {
      "image/png": "[encoded data removed]",
      "text/plain": [
       "<Figure size 576x396 with 1 Axes>"
      ]
     },
     "metadata": {},
     "output_type": "display_data"
    }
   ],
   "source": [
    "norm.plot()\n",
    "plt.style.use(\"seaborn\")\n",
    "plt.show()"
   ]
  },
  {
   "cell_type": "code",
   "execution_count": null,
   "metadata": {},
   "outputs": [],
   "source": [
    "#risk analysis\n",
    "stock = [\"GME\",\"AMC\",\"AAPL\"]\n",
    "stocks = yf.download(stock, start='2016-02-01',end='2022-02-01')"
   ]
  },
  {
   "cell_type": "code",
   "execution_count": 18,
   "metadata": {},
   "outputs": [
    {
     "data": {
      "text/html": [
       "<div>\n",
       "<style scoped>\n",
       "    .dataframe tbody tr th:only-of-type {\n",
       "        vertical-align: middle;\n",
       "    }\n",
       "\n",
       "    .dataframe tbody tr th {\n",
       "        vertical-align: top;\n",
       "    }\n",
       "\n",
       "    .dataframe thead th {\n",
       "        text-align: right;\n",
       "    }\n",
       "</style>\n",
       "<table border=\"1\" class=\"dataframe\">\n",
       "  <thead>\n",
       "    <tr style=\"text-align: right;\">\n",
       "      <th></th>\n",
       "      <th>AAPL</th>\n",
       "      <th>AMC</th>\n",
       "      <th>GME</th>\n",
       "    </tr>\n",
       "    <tr>\n",
       "      <th>Date</th>\n",
       "      <th></th>\n",
       "      <th></th>\n",
       "      <th></th>\n",
       "    </tr>\n",
       "  </thead>\n",
       "  <tbody>\n",
       "    <tr>\n",
       "      <th>2016-02-01</th>\n",
       "      <td>NaN</td>\n",
       "      <td>NaN</td>\n",
       "      <td>NaN</td>\n",
       "    </tr>\n",
       "    <tr>\n",
       "      <th>2016-02-02</th>\n",
       "      <td>-0.020222</td>\n",
       "      <td>-0.022045</td>\n",
       "      <td>-0.033197</td>\n",
       "    </tr>\n",
       "    <tr>\n",
       "      <th>2016-02-03</th>\n",
       "      <td>0.019792</td>\n",
       "      <td>0.008633</td>\n",
       "      <td>0.009645</td>\n",
       "    </tr>\n",
       "    <tr>\n",
       "      <th>2016-02-04</th>\n",
       "      <td>0.002595</td>\n",
       "      <td>0.027580</td>\n",
       "      <td>0.032098</td>\n",
       "    </tr>\n",
       "    <tr>\n",
       "      <th>2016-02-05</th>\n",
       "      <td>-0.026708</td>\n",
       "      <td>-0.062008</td>\n",
       "      <td>-0.006664</td>\n",
       "    </tr>\n",
       "    <tr>\n",
       "      <th>...</th>\n",
       "      <td>...</td>\n",
       "      <td>...</td>\n",
       "      <td>...</td>\n",
       "    </tr>\n",
       "    <tr>\n",
       "      <th>2022-01-25</th>\n",
       "      <td>-0.011385</td>\n",
       "      <td>-0.037260</td>\n",
       "      <td>-0.003595</td>\n",
       "    </tr>\n",
       "    <tr>\n",
       "      <th>2022-01-26</th>\n",
       "      <td>-0.000563</td>\n",
       "      <td>-0.004994</td>\n",
       "      <td>0.034773</td>\n",
       "    </tr>\n",
       "    <tr>\n",
       "      <th>2022-01-27</th>\n",
       "      <td>-0.002943</td>\n",
       "      <td>-0.089084</td>\n",
       "      <td>-0.094325</td>\n",
       "    </tr>\n",
       "    <tr>\n",
       "      <th>2022-01-28</th>\n",
       "      <td>0.069778</td>\n",
       "      <td>0.037190</td>\n",
       "      <td>0.046942</td>\n",
       "    </tr>\n",
       "    <tr>\n",
       "      <th>2022-01-31</th>\n",
       "      <td>0.026126</td>\n",
       "      <td>0.066401</td>\n",
       "      <td>0.112552</td>\n",
       "    </tr>\n",
       "  </tbody>\n",
       "</table>\n",
       "<p>1512 rows × 3 columns</p>\n",
       "</div>"
      ],
      "text/plain": [
       "                AAPL       AMC       GME\n",
       "Date                                    \n",
       "2016-02-01       NaN       NaN       NaN\n",
       "2016-02-02 -0.020222 -0.022045 -0.033197\n",
       "2016-02-03  0.019792  0.008633  0.009645\n",
       "2016-02-04  0.002595  0.027580  0.032098\n",
       "2016-02-05 -0.026708 -0.062008 -0.006664\n",
       "...              ...       ...       ...\n",
       "2022-01-25 -0.011385 -0.037260 -0.003595\n",
       "2022-01-26 -0.000563 -0.004994  0.034773\n",
       "2022-01-27 -0.002943 -0.089084 -0.094325\n",
       "2022-01-28  0.069778  0.037190  0.046942\n",
       "2022-01-31  0.026126  0.066401  0.112552\n",
       "\n",
       "[1512 rows x 3 columns]"
      ]
     },
     "execution_count": 18,
     "metadata": {},
     "output_type": "execute_result"
    }
   ],
   "source": [
    "#daily percent change per stock\n",
    "data = stocks.loc[:,\"Close\"].copy()\n",
    "data.pct_change()"
   ]
  },
  {
   "cell_type": "code",
   "execution_count": 19,
   "metadata": {},
   "outputs": [
    {
     "data": {
      "text/html": [
       "<div>\n",
       "<style scoped>\n",
       "    .dataframe tbody tr th:only-of-type {\n",
       "        vertical-align: middle;\n",
       "    }\n",
       "\n",
       "    .dataframe tbody tr th {\n",
       "        vertical-align: top;\n",
       "    }\n",
       "\n",
       "    .dataframe thead th {\n",
       "        text-align: right;\n",
       "    }\n",
       "</style>\n",
       "<table border=\"1\" class=\"dataframe\">\n",
       "  <thead>\n",
       "    <tr style=\"text-align: right;\">\n",
       "      <th></th>\n",
       "      <th>AAPL</th>\n",
       "      <th>AMC</th>\n",
       "      <th>GME</th>\n",
       "    </tr>\n",
       "  </thead>\n",
       "  <tbody>\n",
       "    <tr>\n",
       "      <th>count</th>\n",
       "      <td>1511.000000</td>\n",
       "      <td>1511.000000</td>\n",
       "      <td>1511.000000</td>\n",
       "    </tr>\n",
       "    <tr>\n",
       "      <th>mean</th>\n",
       "      <td>0.001482</td>\n",
       "      <td>0.002841</td>\n",
       "      <td>0.003660</td>\n",
       "    </tr>\n",
       "    <tr>\n",
       "      <th>std</th>\n",
       "      <td>0.018429</td>\n",
       "      <td>0.100606</td>\n",
       "      <td>0.080460</td>\n",
       "    </tr>\n",
       "    <tr>\n",
       "      <th>min</th>\n",
       "      <td>-0.128647</td>\n",
       "      <td>-0.566332</td>\n",
       "      <td>-0.600000</td>\n",
       "    </tr>\n",
       "    <tr>\n",
       "      <th>25%</th>\n",
       "      <td>-0.006496</td>\n",
       "      <td>-0.021775</td>\n",
       "      <td>-0.018834</td>\n",
       "    </tr>\n",
       "    <tr>\n",
       "      <th>50%</th>\n",
       "      <td>0.001000</td>\n",
       "      <td>-0.001616</td>\n",
       "      <td>-0.000351</td>\n",
       "    </tr>\n",
       "    <tr>\n",
       "      <th>75%</th>\n",
       "      <td>0.010233</td>\n",
       "      <td>0.017495</td>\n",
       "      <td>0.017289</td>\n",
       "    </tr>\n",
       "    <tr>\n",
       "      <th>max</th>\n",
       "      <td>0.119808</td>\n",
       "      <td>3.012097</td>\n",
       "      <td>1.348358</td>\n",
       "    </tr>\n",
       "  </tbody>\n",
       "</table>\n",
       "</div>"
      ],
      "text/plain": [
       "              AAPL          AMC          GME\n",
       "count  1511.000000  1511.000000  1511.000000\n",
       "mean      0.001482     0.002841     0.003660\n",
       "std       0.018429     0.100606     0.080460\n",
       "min      -0.128647    -0.566332    -0.600000\n",
       "25%      -0.006496    -0.021775    -0.018834\n",
       "50%       0.001000    -0.001616    -0.000351\n",
       "75%       0.010233     0.017495     0.017289\n",
       "max       0.119808     3.012097     1.348358"
      ]
     },
     "execution_count": 19,
     "metadata": {},
     "output_type": "execute_result"
    }
   ],
   "source": [
    "#clean data of nan\n",
    "com = data.pct_change().dropna()\n",
    "com.describe()"
   ]
  },
  {
   "cell_type": "code",
   "execution_count": 20,
   "metadata": {},
   "outputs": [
    {
     "data": {
      "text/html": [
       "<div>\n",
       "<style scoped>\n",
       "    .dataframe tbody tr th:only-of-type {\n",
       "        vertical-align: middle;\n",
       "    }\n",
       "\n",
       "    .dataframe tbody tr th {\n",
       "        vertical-align: top;\n",
       "    }\n",
       "\n",
       "    .dataframe thead th {\n",
       "        text-align: right;\n",
       "    }\n",
       "</style>\n",
       "<table border=\"1\" class=\"dataframe\">\n",
       "  <thead>\n",
       "    <tr style=\"text-align: right;\">\n",
       "      <th></th>\n",
       "      <th>mean</th>\n",
       "      <th>std</th>\n",
       "    </tr>\n",
       "  </thead>\n",
       "  <tbody>\n",
       "    <tr>\n",
       "      <th>AAPL</th>\n",
       "      <td>0.001482</td>\n",
       "      <td>0.018429</td>\n",
       "    </tr>\n",
       "    <tr>\n",
       "      <th>AMC</th>\n",
       "      <td>0.002841</td>\n",
       "      <td>0.100606</td>\n",
       "    </tr>\n",
       "    <tr>\n",
       "      <th>GME</th>\n",
       "      <td>0.003660</td>\n",
       "      <td>0.080460</td>\n",
       "    </tr>\n",
       "  </tbody>\n",
       "</table>\n",
       "</div>"
      ],
      "text/plain": [
       "          mean       std\n",
       "AAPL  0.001482  0.018429\n",
       "AMC   0.002841  0.100606\n",
       "GME   0.003660  0.080460"
      ]
     },
     "execution_count": 20,
     "metadata": {},
     "output_type": "execute_result"
    }
   ],
   "source": [
    "#grab the mean and standard deviation\n",
    "sum = com.describe().T.loc[:,[\"mean\",\"std\"]]\n",
    "sum"
   ]
  },
  {
   "cell_type": "code",
   "execution_count": 21,
   "metadata": {},
   "outputs": [],
   "source": [
    "#determine the yearly ranges for mean and std\n",
    "sum[\"mean\"] = sum[\"mean\"]*252\n",
    "sum[\"std\"] = sum[\"std\"] * np.sqrt(252)"
   ]
  },
  {
   "cell_type": "code",
   "execution_count": 23,
   "metadata": {},
   "outputs": [
    {
     "data": {
      "image/png": "[encoded data removed]",
      "text/plain": [
       "<Figure size 576x396 with 1 Axes>"
      ]
     },
     "metadata": {},
     "output_type": "display_data"
    }
   ],
   "source": [
    "sum.plot.scatter(x=\"std\",y=\"mean\")\n",
    "for i in sum.index:\n",
    "    plt.annotate(i, xy=(sum.loc[i,\"std\"]+0.002, sum.loc[i,\"mean\"]+0.002), size=15)"
   ]
  },
  {
   "cell_type": "code",
   "execution_count": null,
   "metadata": {},
   "outputs": [],
   "source": []
  }
 ],
 "metadata": {
  "interpreter": {
   "hash": "b32e1d5b83035d203d588b38da35c8a9db196d5e7177f2810dd901df292f365e"
  },
  "kernelspec": {
   "display_name": "Python 3.9.7 ('base')",
   "language": "python",
   "name": "python3"
  },
  "language_info": {
   "codemirror_mode": {
    "name": "ipython",
    "version": 3
   },
   "file_extension": ".py",
   "mimetype": "text/x-python",
   "name": "python",
   "nbconvert_exporter": "python",
   "pygments_lexer": "ipython3",
   "version": "3.9.7"
  },
  "orig_nbformat": 4
 },
 "nbformat": 4,
 "nbformat_minor": 2
}
