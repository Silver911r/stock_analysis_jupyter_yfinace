{
 "cells": [
  {
   "cell_type": "code",
   "execution_count": 3,
   "metadata": {},
   "outputs": [],
   "source": [
    "import yfinance as yf\n",
    "import pandas as pd\n",
    "import matplotlib.pyplot as plt"
   ]
  },
  {
   "cell_type": "code",
   "execution_count": 4,
   "metadata": {},
   "outputs": [],
   "source": [
    "stocks = [\"GME\",\"AMC\"]"
   ]
  },
  {
   "cell_type": "code",
   "execution_count": 5,
   "metadata": {},
   "outputs": [
    {
     "name": "stdout",
     "output_type": "stream",
     "text": [
      "[*********************100%***********************]  2 of 2 completed\n"
     ]
    }
   ],
   "source": [
    "data = yf.download(stocks, start='2021-02-01',end='2022-02-01')"
   ]
  },
  {
   "cell_type": "code",
   "execution_count": 6,
   "metadata": {},
   "outputs": [
    {
     "data": {
      "text/html": [
       "<div>\n",
       "<style scoped>\n",
       "    .dataframe tbody tr th:only-of-type {\n",
       "        vertical-align: middle;\n",
       "    }\n",
       "\n",
       "    .dataframe tbody tr th {\n",
       "        vertical-align: top;\n",
       "    }\n",
       "\n",
       "    .dataframe thead tr th {\n",
       "        text-align: left;\n",
       "    }\n",
       "\n",
       "    .dataframe thead tr:last-of-type th {\n",
       "        text-align: right;\n",
       "    }\n",
       "</style>\n",
       "<table border=\"1\" class=\"dataframe\">\n",
       "  <thead>\n",
       "    <tr>\n",
       "      <th></th>\n",
       "      <th colspan=\"2\" halign=\"left\">Adj Close</th>\n",
       "      <th colspan=\"2\" halign=\"left\">Close</th>\n",
       "      <th colspan=\"2\" halign=\"left\">High</th>\n",
       "      <th colspan=\"2\" halign=\"left\">Low</th>\n",
       "      <th colspan=\"2\" halign=\"left\">Open</th>\n",
       "      <th colspan=\"2\" halign=\"left\">Volume</th>\n",
       "    </tr>\n",
       "    <tr>\n",
       "      <th></th>\n",
       "      <th>AMC</th>\n",
       "      <th>GME</th>\n",
       "      <th>AMC</th>\n",
       "      <th>GME</th>\n",
       "      <th>AMC</th>\n",
       "      <th>GME</th>\n",
       "      <th>AMC</th>\n",
       "      <th>GME</th>\n",
       "      <th>AMC</th>\n",
       "      <th>GME</th>\n",
       "      <th>AMC</th>\n",
       "      <th>GME</th>\n",
       "    </tr>\n",
       "    <tr>\n",
       "      <th>Date</th>\n",
       "      <th></th>\n",
       "      <th></th>\n",
       "      <th></th>\n",
       "      <th></th>\n",
       "      <th></th>\n",
       "      <th></th>\n",
       "      <th></th>\n",
       "      <th></th>\n",
       "      <th></th>\n",
       "      <th></th>\n",
       "      <th></th>\n",
       "      <th></th>\n",
       "    </tr>\n",
       "  </thead>\n",
       "  <tbody>\n",
       "    <tr>\n",
       "      <th>2021-02-01</th>\n",
       "      <td>13.30</td>\n",
       "      <td>225.000000</td>\n",
       "      <td>13.30</td>\n",
       "      <td>225.000000</td>\n",
       "      <td>17.25</td>\n",
       "      <td>322.000000</td>\n",
       "      <td>12.91</td>\n",
       "      <td>212.000000</td>\n",
       "      <td>17.00</td>\n",
       "      <td>316.559998</td>\n",
       "      <td>434608000</td>\n",
       "      <td>37382200</td>\n",
       "    </tr>\n",
       "    <tr>\n",
       "      <th>2021-02-02</th>\n",
       "      <td>7.82</td>\n",
       "      <td>90.000000</td>\n",
       "      <td>7.82</td>\n",
       "      <td>90.000000</td>\n",
       "      <td>10.10</td>\n",
       "      <td>158.000000</td>\n",
       "      <td>6.00</td>\n",
       "      <td>74.220001</td>\n",
       "      <td>9.48</td>\n",
       "      <td>140.759995</td>\n",
       "      <td>462775900</td>\n",
       "      <td>78183100</td>\n",
       "    </tr>\n",
       "    <tr>\n",
       "      <th>2021-02-03</th>\n",
       "      <td>8.97</td>\n",
       "      <td>92.410004</td>\n",
       "      <td>8.97</td>\n",
       "      <td>92.410004</td>\n",
       "      <td>9.77</td>\n",
       "      <td>113.400002</td>\n",
       "      <td>7.89</td>\n",
       "      <td>85.250000</td>\n",
       "      <td>8.85</td>\n",
       "      <td>112.010002</td>\n",
       "      <td>221405100</td>\n",
       "      <td>42698500</td>\n",
       "    </tr>\n",
       "    <tr>\n",
       "      <th>2021-02-04</th>\n",
       "      <td>7.09</td>\n",
       "      <td>53.500000</td>\n",
       "      <td>7.09</td>\n",
       "      <td>53.500000</td>\n",
       "      <td>8.74</td>\n",
       "      <td>91.500000</td>\n",
       "      <td>7.00</td>\n",
       "      <td>53.330002</td>\n",
       "      <td>8.70</td>\n",
       "      <td>91.190002</td>\n",
       "      <td>162985800</td>\n",
       "      <td>62427300</td>\n",
       "    </tr>\n",
       "    <tr>\n",
       "      <th>2021-02-05</th>\n",
       "      <td>6.83</td>\n",
       "      <td>63.770000</td>\n",
       "      <td>6.83</td>\n",
       "      <td>63.770000</td>\n",
       "      <td>8.27</td>\n",
       "      <td>95.000000</td>\n",
       "      <td>6.52</td>\n",
       "      <td>51.090000</td>\n",
       "      <td>7.17</td>\n",
       "      <td>54.040001</td>\n",
       "      <td>197097600</td>\n",
       "      <td>81345000</td>\n",
       "    </tr>\n",
       "  </tbody>\n",
       "</table>\n",
       "</div>"
      ],
      "text/plain": [
       "           Adj Close              Close               High                Low  \\\n",
       "                 AMC         GME    AMC         GME    AMC         GME    AMC   \n",
       "Date                                                                            \n",
       "2021-02-01     13.30  225.000000  13.30  225.000000  17.25  322.000000  12.91   \n",
       "2021-02-02      7.82   90.000000   7.82   90.000000  10.10  158.000000   6.00   \n",
       "2021-02-03      8.97   92.410004   8.97   92.410004   9.77  113.400002   7.89   \n",
       "2021-02-04      7.09   53.500000   7.09   53.500000   8.74   91.500000   7.00   \n",
       "2021-02-05      6.83   63.770000   6.83   63.770000   8.27   95.000000   6.52   \n",
       "\n",
       "                         Open                 Volume            \n",
       "                   GME    AMC         GME        AMC       GME  \n",
       "Date                                                            \n",
       "2021-02-01  212.000000  17.00  316.559998  434608000  37382200  \n",
       "2021-02-02   74.220001   9.48  140.759995  462775900  78183100  \n",
       "2021-02-03   85.250000   8.85  112.010002  221405100  42698500  \n",
       "2021-02-04   53.330002   8.70   91.190002  162985800  62427300  \n",
       "2021-02-05   51.090000   7.17   54.040001  197097600  81345000  "
      ]
     },
     "execution_count": 6,
     "metadata": {},
     "output_type": "execute_result"
    }
   ],
   "source": [
    "data.head()"
   ]
  },
  {
   "cell_type": "code",
   "execution_count": 7,
   "metadata": {},
   "outputs": [],
   "source": [
    "closedStocks = data.loc[:,\"Close\"].copy()"
   ]
  },
  {
   "cell_type": "code",
   "execution_count": 12,
   "metadata": {},
   "outputs": [
    {
     "data": {
      "image/png": "[encoded data removed]",
      "text/plain": [
       "<Figure size 576x396 with 1 Axes>"
      ]
     },
     "metadata": {},
     "output_type": "display_data"
    }
   ],
   "source": [
    "closedStocks.plot()\n",
    "plt.style.use(\"seaborn\")\n",
    "plt.show()"
   ]
  },
  {
   "cell_type": "code",
   "execution_count": null,
   "metadata": {},
   "outputs": [],
   "source": []
  }
 ],
 "metadata": {
  "interpreter": {
   "hash": "b32e1d5b83035d203d588b38da35c8a9db196d5e7177f2810dd901df292f365e"
  },
  "kernelspec": {
   "display_name": "Python 3.9.7 ('base')",
   "language": "python",
   "name": "python3"
  },
  "language_info": {
   "codemirror_mode": {
    "name": "ipython",
    "version": 3
   },
   "file_extension": ".py",
   "mimetype": "text/x-python",
   "name": "python",
   "nbconvert_exporter": "python",
   "pygments_lexer": "ipython3",
   "version": "3.9.7"
  },
  "orig_nbformat": 4
 },
 "nbformat": 4,
 "nbformat_minor": 2
}
